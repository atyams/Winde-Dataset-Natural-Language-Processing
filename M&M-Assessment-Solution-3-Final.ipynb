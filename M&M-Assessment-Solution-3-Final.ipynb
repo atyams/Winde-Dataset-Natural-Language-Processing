{
 "cells": [
  {
   "cell_type": "code",
   "execution_count": null,
   "metadata": {},
   "outputs": [],
   "source": [
    "#What were the most common descriptive words or phrases used by the tasters to describe the wine that receive the \n",
    "#highest scores? What words or phrases do they use to describe wine they give the lowest scores?"
   ]
  },
  {
   "cell_type": "code",
   "execution_count": 1,
   "metadata": {},
   "outputs": [],
   "source": [
    "            #######################          LIBRARIES                 #######################\n",
    "\n",
    "#Import required libraries\n",
    "import nltk\n",
    "import nltk.corpus\n",
    "import pandas as pd\n",
    "from nltk.tokenize import word_tokenize \n",
    "from nltk.corpus import stopwords\n",
    "import re\n",
    "from nltk.probability import FreqDist\n",
    "import numpy as np\n",
    "import matplotlib.pyplot as plt"
   ]
  },
  {
   "cell_type": "code",
   "execution_count": 2,
   "metadata": {},
   "outputs": [
    {
     "data": {
      "text/html": [
       "<div>\n",
       "<style scoped>\n",
       "    .dataframe tbody tr th:only-of-type {\n",
       "        vertical-align: middle;\n",
       "    }\n",
       "\n",
       "    .dataframe tbody tr th {\n",
       "        vertical-align: top;\n",
       "    }\n",
       "\n",
       "    .dataframe thead th {\n",
       "        text-align: right;\n",
       "    }\n",
       "</style>\n",
       "<table border=\"1\" class=\"dataframe\">\n",
       "  <thead>\n",
       "    <tr style=\"text-align: right;\">\n",
       "      <th></th>\n",
       "      <th>Unnamed: 0</th>\n",
       "      <th>country</th>\n",
       "      <th>description</th>\n",
       "      <th>designation</th>\n",
       "      <th>points</th>\n",
       "      <th>price</th>\n",
       "      <th>province</th>\n",
       "      <th>region_1</th>\n",
       "      <th>region_2</th>\n",
       "      <th>taster_name</th>\n",
       "      <th>taster_twitter_handle</th>\n",
       "      <th>title</th>\n",
       "      <th>variety</th>\n",
       "      <th>winery</th>\n",
       "    </tr>\n",
       "  </thead>\n",
       "  <tbody>\n",
       "    <tr>\n",
       "      <th>0</th>\n",
       "      <td>0</td>\n",
       "      <td>Italy</td>\n",
       "      <td>Aromas include tropical fruit, broom, brimston...</td>\n",
       "      <td>Vulkà Bianco</td>\n",
       "      <td>87</td>\n",
       "      <td>NaN</td>\n",
       "      <td>Sicily &amp; Sardinia</td>\n",
       "      <td>Etna</td>\n",
       "      <td>NaN</td>\n",
       "      <td>Kerin O’Keefe</td>\n",
       "      <td>@kerinokeefe</td>\n",
       "      <td>Nicosia 2013 Vulkà Bianco  (Etna)</td>\n",
       "      <td>White Blend</td>\n",
       "      <td>Nicosia</td>\n",
       "    </tr>\n",
       "    <tr>\n",
       "      <th>1</th>\n",
       "      <td>1</td>\n",
       "      <td>Portugal</td>\n",
       "      <td>This is ripe and fruity, a wine that is smooth...</td>\n",
       "      <td>Avidagos</td>\n",
       "      <td>87</td>\n",
       "      <td>15.0</td>\n",
       "      <td>Douro</td>\n",
       "      <td>NaN</td>\n",
       "      <td>NaN</td>\n",
       "      <td>Roger Voss</td>\n",
       "      <td>@vossroger</td>\n",
       "      <td>Quinta dos Avidagos 2011 Avidagos Red (Douro)</td>\n",
       "      <td>Portuguese Red</td>\n",
       "      <td>Quinta dos Avidagos</td>\n",
       "    </tr>\n",
       "    <tr>\n",
       "      <th>2</th>\n",
       "      <td>2</td>\n",
       "      <td>US</td>\n",
       "      <td>Tart and snappy, the flavors of lime flesh and...</td>\n",
       "      <td>NaN</td>\n",
       "      <td>87</td>\n",
       "      <td>14.0</td>\n",
       "      <td>Oregon</td>\n",
       "      <td>Willamette Valley</td>\n",
       "      <td>Willamette Valley</td>\n",
       "      <td>Paul Gregutt</td>\n",
       "      <td>@paulgwine</td>\n",
       "      <td>Rainstorm 2013 Pinot Gris (Willamette Valley)</td>\n",
       "      <td>Pinot Gris</td>\n",
       "      <td>Rainstorm</td>\n",
       "    </tr>\n",
       "    <tr>\n",
       "      <th>3</th>\n",
       "      <td>3</td>\n",
       "      <td>US</td>\n",
       "      <td>Pineapple rind, lemon pith and orange blossom ...</td>\n",
       "      <td>Reserve Late Harvest</td>\n",
       "      <td>87</td>\n",
       "      <td>13.0</td>\n",
       "      <td>Michigan</td>\n",
       "      <td>Lake Michigan Shore</td>\n",
       "      <td>NaN</td>\n",
       "      <td>Alexander Peartree</td>\n",
       "      <td>NaN</td>\n",
       "      <td>St. Julian 2013 Reserve Late Harvest Riesling ...</td>\n",
       "      <td>Riesling</td>\n",
       "      <td>St. Julian</td>\n",
       "    </tr>\n",
       "    <tr>\n",
       "      <th>4</th>\n",
       "      <td>4</td>\n",
       "      <td>US</td>\n",
       "      <td>Much like the regular bottling from 2012, this...</td>\n",
       "      <td>Vintner's Reserve Wild Child Block</td>\n",
       "      <td>87</td>\n",
       "      <td>65.0</td>\n",
       "      <td>Oregon</td>\n",
       "      <td>Willamette Valley</td>\n",
       "      <td>Willamette Valley</td>\n",
       "      <td>Paul Gregutt</td>\n",
       "      <td>@paulgwine</td>\n",
       "      <td>Sweet Cheeks 2012 Vintner's Reserve Wild Child...</td>\n",
       "      <td>Pinot Noir</td>\n",
       "      <td>Sweet Cheeks</td>\n",
       "    </tr>\n",
       "  </tbody>\n",
       "</table>\n",
       "</div>"
      ],
      "text/plain": [
       "   Unnamed: 0   country                                        description  \\\n",
       "0           0     Italy  Aromas include tropical fruit, broom, brimston...   \n",
       "1           1  Portugal  This is ripe and fruity, a wine that is smooth...   \n",
       "2           2        US  Tart and snappy, the flavors of lime flesh and...   \n",
       "3           3        US  Pineapple rind, lemon pith and orange blossom ...   \n",
       "4           4        US  Much like the regular bottling from 2012, this...   \n",
       "\n",
       "                          designation  points  price           province  \\\n",
       "0                        Vulkà Bianco      87    NaN  Sicily & Sardinia   \n",
       "1                            Avidagos      87   15.0              Douro   \n",
       "2                                 NaN      87   14.0             Oregon   \n",
       "3                Reserve Late Harvest      87   13.0           Michigan   \n",
       "4  Vintner's Reserve Wild Child Block      87   65.0             Oregon   \n",
       "\n",
       "              region_1           region_2         taster_name  \\\n",
       "0                 Etna                NaN       Kerin O’Keefe   \n",
       "1                  NaN                NaN          Roger Voss   \n",
       "2    Willamette Valley  Willamette Valley        Paul Gregutt   \n",
       "3  Lake Michigan Shore                NaN  Alexander Peartree   \n",
       "4    Willamette Valley  Willamette Valley        Paul Gregutt   \n",
       "\n",
       "  taster_twitter_handle                                              title  \\\n",
       "0          @kerinokeefe                  Nicosia 2013 Vulkà Bianco  (Etna)   \n",
       "1            @vossroger      Quinta dos Avidagos 2011 Avidagos Red (Douro)   \n",
       "2           @paulgwine       Rainstorm 2013 Pinot Gris (Willamette Valley)   \n",
       "3                   NaN  St. Julian 2013 Reserve Late Harvest Riesling ...   \n",
       "4           @paulgwine   Sweet Cheeks 2012 Vintner's Reserve Wild Child...   \n",
       "\n",
       "          variety               winery  \n",
       "0     White Blend              Nicosia  \n",
       "1  Portuguese Red  Quinta dos Avidagos  \n",
       "2      Pinot Gris            Rainstorm  \n",
       "3        Riesling           St. Julian  \n",
       "4      Pinot Noir         Sweet Cheeks  "
      ]
     },
     "execution_count": 2,
     "metadata": {},
     "output_type": "execute_result"
    }
   ],
   "source": [
    "            #######################          DATAFRAME PREPARATION    #######################\n",
    "\n",
    "#open the csv file and read as dataframe\n",
    "wine_df = pd.read_csv(\"/Users/atyam/Desktop/M&M/winemag-data-130k-v2.csv\")\n",
    "#read few rows and all columns\n",
    "wine_df.head()"
   ]
  },
  {
   "cell_type": "code",
   "execution_count": 3,
   "metadata": {},
   "outputs": [
    {
     "name": "stdout",
     "output_type": "stream",
     "text": [
      "<class 'pandas.core.frame.DataFrame'>\n",
      "Int64Index: 119955 entries, 0 to 129970\n",
      "Data columns (total 14 columns):\n",
      "Unnamed: 0               119955 non-null int64\n",
      "country                  119896 non-null object\n",
      "description              119955 non-null object\n",
      "designation              85423 non-null object\n",
      "points                   119955 non-null int64\n",
      "price                    111567 non-null float64\n",
      "province                 119896 non-null object\n",
      "region_1                 100397 non-null object\n",
      "region_2                 46760 non-null object\n",
      "taster_name              95043 non-null object\n",
      "taster_twitter_handle    90514 non-null object\n",
      "title                    119955 non-null object\n",
      "variety                  119954 non-null object\n",
      "winery                   119955 non-null object\n",
      "dtypes: float64(1), int64(2), object(11)\n",
      "memory usage: 13.7+ MB\n"
     ]
    }
   ],
   "source": [
    "        \n",
    "            #######################          DATAFRAME CLEANING           #######################\n",
    "\n",
    "#Remove duplicates from the dataframe based on the description column, use keep = first argument to keep one and remove \n",
    "#other duplicates for that row.\n",
    "wine_df.drop_duplicates(subset=['description'], keep=\"first\", inplace = True)\n",
    "wine_df.info()"
   ]
  },
  {
   "cell_type": "code",
   "execution_count": 4,
   "metadata": {},
   "outputs": [
    {
     "data": {
      "text/html": [
       "<div>\n",
       "<style scoped>\n",
       "    .dataframe tbody tr th:only-of-type {\n",
       "        vertical-align: middle;\n",
       "    }\n",
       "\n",
       "    .dataframe tbody tr th {\n",
       "        vertical-align: top;\n",
       "    }\n",
       "\n",
       "    .dataframe thead th {\n",
       "        text-align: right;\n",
       "    }\n",
       "</style>\n",
       "<table border=\"1\" class=\"dataframe\">\n",
       "  <thead>\n",
       "    <tr style=\"text-align: right;\">\n",
       "      <th></th>\n",
       "      <th>taster_name</th>\n",
       "      <th>description</th>\n",
       "      <th>title</th>\n",
       "      <th>points</th>\n",
       "    </tr>\n",
       "  </thead>\n",
       "  <tbody>\n",
       "    <tr>\n",
       "      <th>0</th>\n",
       "      <td>Kerin O’Keefe</td>\n",
       "      <td>Aromas include tropical fruit, broom, brimston...</td>\n",
       "      <td>Nicosia 2013 Vulkà Bianco  (Etna)</td>\n",
       "      <td>87</td>\n",
       "    </tr>\n",
       "    <tr>\n",
       "      <th>1</th>\n",
       "      <td>Roger Voss</td>\n",
       "      <td>This is ripe and fruity, a wine that is smooth...</td>\n",
       "      <td>Quinta dos Avidagos 2011 Avidagos Red (Douro)</td>\n",
       "      <td>87</td>\n",
       "    </tr>\n",
       "    <tr>\n",
       "      <th>2</th>\n",
       "      <td>Paul Gregutt</td>\n",
       "      <td>Tart and snappy, the flavors of lime flesh and...</td>\n",
       "      <td>Rainstorm 2013 Pinot Gris (Willamette Valley)</td>\n",
       "      <td>87</td>\n",
       "    </tr>\n",
       "    <tr>\n",
       "      <th>3</th>\n",
       "      <td>Alexander Peartree</td>\n",
       "      <td>Pineapple rind, lemon pith and orange blossom ...</td>\n",
       "      <td>St. Julian 2013 Reserve Late Harvest Riesling ...</td>\n",
       "      <td>87</td>\n",
       "    </tr>\n",
       "    <tr>\n",
       "      <th>4</th>\n",
       "      <td>Paul Gregutt</td>\n",
       "      <td>Much like the regular bottling from 2012, this...</td>\n",
       "      <td>Sweet Cheeks 2012 Vintner's Reserve Wild Child...</td>\n",
       "      <td>87</td>\n",
       "    </tr>\n",
       "  </tbody>\n",
       "</table>\n",
       "</div>"
      ],
      "text/plain": [
       "          taster_name                                        description  \\\n",
       "0       Kerin O’Keefe  Aromas include tropical fruit, broom, brimston...   \n",
       "1          Roger Voss  This is ripe and fruity, a wine that is smooth...   \n",
       "2        Paul Gregutt  Tart and snappy, the flavors of lime flesh and...   \n",
       "3  Alexander Peartree  Pineapple rind, lemon pith and orange blossom ...   \n",
       "4        Paul Gregutt  Much like the regular bottling from 2012, this...   \n",
       "\n",
       "                                               title  points  \n",
       "0                  Nicosia 2013 Vulkà Bianco  (Etna)      87  \n",
       "1      Quinta dos Avidagos 2011 Avidagos Red (Douro)      87  \n",
       "2      Rainstorm 2013 Pinot Gris (Willamette Valley)      87  \n",
       "3  St. Julian 2013 Reserve Late Harvest Riesling ...      87  \n",
       "4  Sweet Cheeks 2012 Vintner's Reserve Wild Child...      87  "
      ]
     },
     "execution_count": 4,
     "metadata": {},
     "output_type": "execute_result"
    }
   ],
   "source": [
    "#Create new subset dataframe from the main dataframe\n",
    "taster_df = wine_df[['taster_name','description','title','points']]\n",
    "taster_df.head()"
   ]
  },
  {
   "cell_type": "code",
   "execution_count": 5,
   "metadata": {},
   "outputs": [
    {
     "name": "stdout",
     "output_type": "stream",
     "text": [
      "<class 'pandas.core.frame.DataFrame'>\n",
      "Int64Index: 119955 entries, 0 to 129970\n",
      "Data columns (total 4 columns):\n",
      "taster_name    95043 non-null object\n",
      "description    119955 non-null object\n",
      "title          119955 non-null object\n",
      "points         119955 non-null int64\n",
      "dtypes: int64(1), object(3)\n",
      "memory usage: 4.6+ MB\n"
     ]
    }
   ],
   "source": [
    "#Subset dataframe features\n",
    "taster_df.info()"
   ]
  },
  {
   "cell_type": "code",
   "execution_count": 6,
   "metadata": {},
   "outputs": [
    {
     "name": "stdout",
     "output_type": "stream",
     "text": [
      "                                                   title  \\\n",
      "90044      Quinta do Noval 2011 Nacional Vintage  (Port)   \n",
      "21318  Charles Smith 2006 Royal City Syrah (Columbia ...   \n",
      "70192  Louis Roederer 2008 Cristal Vintage Brut  (Cha...   \n",
      "25190      Château Léoville Las Cases 2010  Saint-Julien   \n",
      "17568      Casa Ferreirinha 2008 Barca-Velha Red (Douro)   \n",
      "\n",
      "                                             description  points  \n",
      "90044  A powerful and ripe wine, strongly influenced ...     100  \n",
      "21318  In 2005 Charles Smith introduced three high-en...     100  \n",
      "70192  This latest incarnation of the famous brand is...     100  \n",
      "25190  A hugely powerful wine, full of dark, brooding...     100  \n",
      "17568  This is the latest release of what has long be...     100  \n",
      "                                                    title  \\\n",
      "57557   Ignacio Marín 2008 Duque de Medina Reserva Old...   \n",
      "78780                 Mountain Door 2014 Malbec (Mendoza)   \n",
      "95996           San Pedro 2011 Epica Red (Central Valley)   \n",
      "57553                  Idrias 2011 Chardonnay (Somontano)   \n",
      "111926  Vega de Tera 2014 Halcon Verdejo (Vino de la T...   \n",
      "\n",
      "                                              description  points  \n",
      "57557   Murky and stewy smelling, with no vitality and...      80  \n",
      "78780   Herbaceous red-fruit and forced fiery oak arom...      80  \n",
      "95996   All of the new Epica wines from San Pedro seem...      80  \n",
      "57553   Stalky and oxidized on the nose, this becomes ...      80  \n",
      "111926  This is a heartbeat or two from being DOA. Tan...      80  \n"
     ]
    }
   ],
   "source": [
    "               #######################          ANALYSIS          #######################\n",
    "\n",
    "\n",
    "taster_points = taster_df.groupby(['title','description'], as_index=False)[['points']].sum().sort_values('points', ascending = False)\n",
    "print(taster_points.head())\n",
    "print(taster_points.tail())"
   ]
  },
  {
   "cell_type": "code",
   "execution_count": 8,
   "metadata": {},
   "outputs": [
    {
     "data": {
      "text/plain": [
       "<matplotlib.axes._subplots.AxesSubplot at 0x1a1f523390>"
      ]
     },
     "execution_count": 8,
     "metadata": {},
     "output_type": "execute_result"
    },
    {
     "data": {
      "image/png": "[encoded data removed]",
      "text/plain": [
       "<Figure size 432x288 with 1 Axes>"
      ]
     },
     "metadata": {
      "needs_background": "light"
     },
     "output_type": "display_data"
    }
   ],
   "source": [
    "#Find the low, higher values from the box plot\n",
    "boxplot = taster_points.boxplot(column='points')\n",
    "boxplot"
   ]
  },
  {
   "cell_type": "code",
   "execution_count": null,
   "metadata": {},
   "outputs": [],
   "source": [
    "              \n",
    "                 #################      WORDS FOR HIGHER POINTS          ###################\n",
    "        "
   ]
  },
  {
   "cell_type": "code",
   "execution_count": 9,
   "metadata": {},
   "outputs": [
    {
     "name": "stdout",
     "output_type": "stream",
     "text": [
      "878\n"
     ]
    }
   ],
   "source": [
    "#Find the max points for the wine recieved by the tasters. Based on above score greater than 95 is high score\n",
    "highval = []\n",
    "for index, row in taster_points.iterrows():\n",
    "    if row[2] >95:\n",
    "        highval.append(row[2])\n",
    "print(len(highval))"
   ]
  },
  {
   "cell_type": "code",
   "execution_count": 74,
   "metadata": {},
   "outputs": [
    {
     "data": {
      "text/html": [
       "<div>\n",
       "<style scoped>\n",
       "    .dataframe tbody tr th:only-of-type {\n",
       "        vertical-align: middle;\n",
       "    }\n",
       "\n",
       "    .dataframe tbody tr th {\n",
       "        vertical-align: top;\n",
       "    }\n",
       "\n",
       "    .dataframe thead th {\n",
       "        text-align: right;\n",
       "    }\n",
       "</style>\n",
       "<table border=\"1\" class=\"dataframe\">\n",
       "  <thead>\n",
       "    <tr style=\"text-align: right;\">\n",
       "      <th></th>\n",
       "      <th>title</th>\n",
       "      <th>description</th>\n",
       "      <th>points</th>\n",
       "    </tr>\n",
       "  </thead>\n",
       "  <tbody>\n",
       "    <tr>\n",
       "      <th>90044</th>\n",
       "      <td>Quinta do Noval 2011 Nacional Vintage  (Port)</td>\n",
       "      <td>A powerful and ripe wine, strongly influenced ...</td>\n",
       "      <td>100</td>\n",
       "    </tr>\n",
       "    <tr>\n",
       "      <th>21318</th>\n",
       "      <td>Charles Smith 2006 Royal City Syrah (Columbia ...</td>\n",
       "      <td>In 2005 Charles Smith introduced three high-en...</td>\n",
       "      <td>100</td>\n",
       "    </tr>\n",
       "    <tr>\n",
       "      <th>70192</th>\n",
       "      <td>Louis Roederer 2008 Cristal Vintage Brut  (Cha...</td>\n",
       "      <td>This latest incarnation of the famous brand is...</td>\n",
       "      <td>100</td>\n",
       "    </tr>\n",
       "    <tr>\n",
       "      <th>25190</th>\n",
       "      <td>Château Léoville Las Cases 2010  Saint-Julien</td>\n",
       "      <td>A hugely powerful wine, full of dark, brooding...</td>\n",
       "      <td>100</td>\n",
       "    </tr>\n",
       "    <tr>\n",
       "      <th>17568</th>\n",
       "      <td>Casa Ferreirinha 2008 Barca-Velha Red (Douro)</td>\n",
       "      <td>This is the latest release of what has long be...</td>\n",
       "      <td>100</td>\n",
       "    </tr>\n",
       "  </tbody>\n",
       "</table>\n",
       "</div>"
      ],
      "text/plain": [
       "                                                   title  \\\n",
       "90044      Quinta do Noval 2011 Nacional Vintage  (Port)   \n",
       "21318  Charles Smith 2006 Royal City Syrah (Columbia ...   \n",
       "70192  Louis Roederer 2008 Cristal Vintage Brut  (Cha...   \n",
       "25190      Château Léoville Las Cases 2010  Saint-Julien   \n",
       "17568      Casa Ferreirinha 2008 Barca-Velha Red (Douro)   \n",
       "\n",
       "                                             description  points  \n",
       "90044  A powerful and ripe wine, strongly influenced ...     100  \n",
       "21318  In 2005 Charles Smith introduced three high-en...     100  \n",
       "70192  This latest incarnation of the famous brand is...     100  \n",
       "25190  A hugely powerful wine, full of dark, brooding...     100  \n",
       "17568  This is the latest release of what has long be...     100  "
      ]
     },
     "execution_count": 74,
     "metadata": {},
     "output_type": "execute_result"
    }
   ],
   "source": [
    "#Index the dataframe rows to the required number of rows\n",
    "wine_title_max = taster_points[0:878]\n",
    "wine_title_max.head()"
   ]
  },
  {
   "cell_type": "code",
   "execution_count": 75,
   "metadata": {},
   "outputs": [
    {
     "data": {
      "text/plain": [
       "90044    A powerful and ripe wine, strongly influenced ...\n",
       "21318    In 2005 Charles Smith introduced three high-en...\n",
       "70192    This latest incarnation of the famous brand is...\n",
       "25190    A hugely powerful wine, full of dark, brooding...\n",
       "17568    This is the latest release of what has long be...\n",
       "Name: description, dtype: object"
      ]
     },
     "execution_count": 75,
     "metadata": {},
     "output_type": "execute_result"
    }
   ],
   "source": [
    "#Now index the description column for further analysis\n",
    "wine_title_max_desc =wine_title_max['description']\n",
    "wine_title_max_desc.head()"
   ]
  },
  {
   "cell_type": "code",
   "execution_count": 76,
   "metadata": {},
   "outputs": [],
   "source": [
    "#Now save only description data part to the variable\n",
    "maxwine_desc= wine_title_max_desc.values\n",
    "maxwine_desc"
   ]
  },
  {
   "cell_type": "code",
   "execution_count": 77,
   "metadata": {},
   "outputs": [
    {
     "data": {
      "text/plain": [
       "numpy.ndarray"
      ]
     },
     "execution_count": 77,
     "metadata": {},
     "output_type": "execute_result"
    }
   ],
   "source": [
    "#Check the type of the variable.\n",
    "type(maxwine_desc)"
   ]
  },
  {
   "cell_type": "code",
   "execution_count": 78,
   "metadata": {},
   "outputs": [],
   "source": [
    "# Use for loop \n",
    "maxwine_desc_words = []                                # Open a list to load the tokens\n",
    "fdist = FreqDist()                                     # Assign a variable to frequency distribution function\n",
    "punctuation =re.compile(r'[-.?,:;()|0:9]')             #The punctuations are removed by using regular expression in taste description words\n",
    "stop_words = set(stopwords.words('english'))           # set the stop words\n",
    "for line in maxwine_desc:\n",
    "    maxwine_desc_tokens = word_tokenize(line)\n",
    "    for words in maxwine_desc_tokens:\n",
    "        word = punctuation.sub(\"\", words)              # Removes the punctuatioon as defined in the above code\n",
    "        if (word not in stop_words and  len(word)>3):  # I use len 3 because to remove some of the stop words like is, the,s\n",
    "            maxwine_desc_words.append(word)\n",
    "    for w in maxwine_desc_words:\n",
    "        fdist[w.lower()]+=1                           # word to lower case-> to avoid the probability of considering \n",
    "                                                      # upper and lower case as different and it assigns the total \n",
    "                                                      # frequency count to each word. "
   ]
  },
  {
   "cell_type": "code",
   "execution_count": 80,
   "metadata": {},
   "outputs": [
    {
     "data": {
      "text/plain": [
       "[('wine', 414002),\n",
       " ('this', 167830),\n",
       " ('tannins', 153664),\n",
       " ('fruit', 147719),\n",
       " ('drink', 145842),\n",
       " ('flavors', 145405),\n",
       " ('black', 128323),\n",
       " ('acidity', 122017),\n",
       " ('years', 101832),\n",
       " ('ripe', 96370),\n",
       " ('rich', 90087)]"
      ]
     },
     "execution_count": 80,
     "metadata": {},
     "output_type": "execute_result"
    }
   ],
   "source": [
    "# The most common descriptive words used by the tasters to describe the wine that received the highest scores:\n",
    "wine_topwords = fdist.most_common(11)\n",
    "wine_topwords"
   ]
  },
  {
   "cell_type": "code",
   "execution_count": 81,
   "metadata": {},
   "outputs": [
    {
     "data": {
      "image/png": "[encoded data removed]",
      "text/plain": [
       "<Figure size 432x288 with 1 Axes>"
      ]
     },
     "metadata": {
      "needs_background": "light"
     },
     "output_type": "display_data"
    }
   ],
   "source": [
    "#Plot the scores in barplot for visualization \n",
    "\n",
    "plt.bar(range(len(wine_topwords)), [val[1] for val in wine_topwords], align='center', color = \"orange\")\n",
    "plt.xticks(range(len(wine_topwords)), [val[0] for val in wine_topwords])\n",
    "plt.xticks(rotation=70)\n",
    "plt.show()"
   ]
  },
  {
   "cell_type": "code",
   "execution_count": null,
   "metadata": {},
   "outputs": [],
   "source": [
    "\n",
    "                   #################          WORDS FOR LOWER POINTS         ###################\n",
    "    "
   ]
  },
  {
   "cell_type": "code",
   "execution_count": 82,
   "metadata": {},
   "outputs": [
    {
     "name": "stdout",
     "output_type": "stream",
     "text": [
      "1086\n"
     ]
    }
   ],
   "source": [
    "#Find the low points for the wine recieved by the tasters. Assumed score less than 82 is low score\n",
    "lowval = []\n",
    "for index, row in taster_points.iterrows():\n",
    "    if row[2] < 82:\n",
    "        lowval.append(row[2])\n",
    "print(len(lowval))"
   ]
  },
  {
   "cell_type": "code",
   "execution_count": 83,
   "metadata": {},
   "outputs": [
    {
     "data": {
      "text/html": [
       "<div>\n",
       "<style scoped>\n",
       "    .dataframe tbody tr th:only-of-type {\n",
       "        vertical-align: middle;\n",
       "    }\n",
       "\n",
       "    .dataframe tbody tr th {\n",
       "        vertical-align: top;\n",
       "    }\n",
       "\n",
       "    .dataframe thead th {\n",
       "        text-align: right;\n",
       "    }\n",
       "</style>\n",
       "<table border=\"1\" class=\"dataframe\">\n",
       "  <thead>\n",
       "    <tr style=\"text-align: right;\">\n",
       "      <th></th>\n",
       "      <th>title</th>\n",
       "      <th>description</th>\n",
       "      <th>points</th>\n",
       "    </tr>\n",
       "  </thead>\n",
       "  <tbody>\n",
       "    <tr>\n",
       "      <th>119354</th>\n",
       "      <td>Zenaida Cellars 2001 Sangiovese (Paso Robles)</td>\n",
       "      <td>Earthy, smoky aromas with a hint of bacon turn...</td>\n",
       "      <td>81</td>\n",
       "    </tr>\n",
       "    <tr>\n",
       "      <th>70264</th>\n",
       "      <td>Love 2015 Cabernet Sauvignon (Vino de la Tierr...</td>\n",
       "      <td>Scattershot aromas of generic berry and cinnam...</td>\n",
       "      <td>81</td>\n",
       "    </tr>\n",
       "    <tr>\n",
       "      <th>47231</th>\n",
       "      <td>Finca Patagonia 2015 Expedicion Pinot Noir (Ma...</td>\n",
       "      <td>Aromas of chewing gum dust are not attractive....</td>\n",
       "      <td>81</td>\n",
       "    </tr>\n",
       "    <tr>\n",
       "      <th>70267</th>\n",
       "      <td>Love 2015 Moscato (Vino de la Tierra de Castilla)</td>\n",
       "      <td>Bland, sweet aromas are not persuasive. This f...</td>\n",
       "      <td>81</td>\n",
       "    </tr>\n",
       "    <tr>\n",
       "      <th>53203</th>\n",
       "      <td>Greg Norman California Estates 2005 Zinfandel ...</td>\n",
       "      <td>Tastes very hot, with a high alcohol peppery b...</td>\n",
       "      <td>81</td>\n",
       "    </tr>\n",
       "  </tbody>\n",
       "</table>\n",
       "</div>"
      ],
      "text/plain": [
       "                                                    title  \\\n",
       "119354      Zenaida Cellars 2001 Sangiovese (Paso Robles)   \n",
       "70264   Love 2015 Cabernet Sauvignon (Vino de la Tierr...   \n",
       "47231   Finca Patagonia 2015 Expedicion Pinot Noir (Ma...   \n",
       "70267   Love 2015 Moscato (Vino de la Tierra de Castilla)   \n",
       "53203   Greg Norman California Estates 2005 Zinfandel ...   \n",
       "\n",
       "                                              description  points  \n",
       "119354  Earthy, smoky aromas with a hint of bacon turn...      81  \n",
       "70264   Scattershot aromas of generic berry and cinnam...      81  \n",
       "47231   Aromas of chewing gum dust are not attractive....      81  \n",
       "70267   Bland, sweet aromas are not persuasive. This f...      81  \n",
       "53203   Tastes very hot, with a high alcohol peppery b...      81  "
      ]
     },
     "execution_count": 83,
     "metadata": {},
     "output_type": "execute_result"
    }
   ],
   "source": [
    "#Index the rows to the required.\n",
    "wine_title_lower = taster_points[118869:]\n",
    "wine_title_lower.head()"
   ]
  },
  {
   "cell_type": "code",
   "execution_count": 84,
   "metadata": {},
   "outputs": [
    {
     "data": {
      "text/plain": [
       "119354    Earthy, smoky aromas with a hint of bacon turn...\n",
       "70264     Scattershot aromas of generic berry and cinnam...\n",
       "47231     Aromas of chewing gum dust are not attractive....\n",
       "70267     Bland, sweet aromas are not persuasive. This f...\n",
       "53203     Tastes very hot, with a high alcohol peppery b...\n",
       "Name: description, dtype: object"
      ]
     },
     "execution_count": 84,
     "metadata": {},
     "output_type": "execute_result"
    }
   ],
   "source": [
    "#Now index the description column for further analysis\n",
    "wine_desc_lower =wine_title_lower['description']\n",
    "wine_desc_lower.head()"
   ]
  },
  {
   "cell_type": "code",
   "execution_count": 85,
   "metadata": {},
   "outputs": [
    {
     "data": {
      "text/plain": [
       "array(['Earthy, smoky aromas with a hint of bacon turn gluey and artifically sweet in the mouth, with the taste of cherry cough syrup. An acceptable wine.',\n",
       "       'Scattershot aromas of generic berry and cinnamon smell forced and fake. This has a tannic scrubbing mouthfeel and artificial flavors of chocolate and cheap oak. A green note and burn on the finish do nothing to help this along.',\n",
       "       'Aromas of chewing gum dust are not attractive. This feels flat, with zero edge and structure. Lightly oxidized flavors of generic berry leave one with nothing to latch on to.',\n",
       "       ...,\n",
       "       'All of the new Epica wines from San Pedro seem highly manufactured and sweet. This blend is stalky and murky smelling, then heavy and cloying in the mouth, with sugar-meets-herbal flavors that finish hot and syrupy.',\n",
       "       'Stalky and oxidized on the nose, this becomes cidery, high in acid in the mouth, with sour-lemon flavors.',\n",
       "       'This is a heartbeat or two from being DOA. Tan in color with an oily heavy mouthfeel, this tastes oxidized and shows almost no pulse.'],\n",
       "      dtype=object)"
      ]
     },
     "execution_count": 85,
     "metadata": {},
     "output_type": "execute_result"
    }
   ],
   "source": [
    "lowwine_desc= wine_desc_lower.values\n",
    "lowwine_desc"
   ]
  },
  {
   "cell_type": "code",
   "execution_count": 93,
   "metadata": {},
   "outputs": [],
   "source": [
    "lowwine_desc_words = []                                 # Open a list to load the tokens\n",
    "fdist1 = FreqDist()                                     # Assign a variable to frequency distribution function\n",
    "punctuation =re.compile(r'[-.?,:;()|0:9]')             #The punctuations are removed by using regular expression in taste description words\n",
    "stop_words = set(stopwords.words('english'))            # set the stop words\n",
    "for line in lowwine_desc:\n",
    "    lowwine_desc_tokens = word_tokenize(line)\n",
    "    for words in lowwine_desc_tokens:\n",
    "        word = punctuation.sub(\"\", words)               # Removes the punctuatioon as defined in the above code\n",
    "        if (word not in stop_words and  len(word)>3):   # I use len 3 because to remove some of the stop words like is, the,s\n",
    "            lowwine_desc_words.append(word)\n",
    "    for w in lowwine_desc_words:\n",
    "        fdist1[w.lower()]+=1                           # word to lower case-> to avoid the probability of considering \n",
    "                                                       # upper and lower case as different and it assigns the total \n",
    "                                                       # frequency count to each word. "
   ]
  },
  {
   "cell_type": "code",
   "execution_count": 96,
   "metadata": {},
   "outputs": [
    {
     "data": {
      "text/plain": [
       "[('flavors', 335347),\n",
       " ('aromas', 201701),\n",
       " ('wine', 199329),\n",
       " ('finish', 177932),\n",
       " ('this', 174729),\n",
       " ('palate', 146502),\n",
       " ('fruit', 124118),\n",
       " ('sweet', 109991),\n",
       " ('green', 81425),\n",
       " ('tastes', 79149),\n",
       " ('nose', 77635)]"
      ]
     },
     "execution_count": 96,
     "metadata": {},
     "output_type": "execute_result"
    }
   ],
   "source": [
    "#The most common descriptive words used by the tasters to describe the wine that received the lowest scores:\n",
    "wine_lowwords = fdist1.most_common(11)\n",
    "wine_lowwords"
   ]
  },
  {
   "cell_type": "code",
   "execution_count": 97,
   "metadata": {},
   "outputs": [
    {
     "data": {
      "image/png": "[encoded data removed]",
      "text/plain": [
       "<Figure size 432x288 with 1 Axes>"
      ]
     },
     "metadata": {
      "needs_background": "light"
     },
     "output_type": "display_data"
    }
   ],
   "source": [
    "#Plot the scores in barplot for visualization \n",
    "\n",
    "plt.bar(range(len(wine_lowwords)), [val[1] for val in wine_lowwords], align='center')\n",
    "plt.xticks(range(len(wine_lowwords)), [val[0] for val in wine_lowwords])\n",
    "plt.xticks(rotation=70)\n",
    "plt.show()"
   ]
  },
  {
   "cell_type": "code",
   "execution_count": null,
   "metadata": {},
   "outputs": [],
   "source": []
  }
 ],
 "metadata": {
  "kernelspec": {
   "display_name": "Python 3",
   "language": "python",
   "name": "python3"
  },
  "language_info": {
   "codemirror_mode": {
    "name": "ipython",
    "version": 3
   },
   "file_extension": ".py",
   "mimetype": "text/x-python",
   "name": "python",
   "nbconvert_exporter": "python",
   "pygments_lexer": "ipython3",
   "version": "3.6.8"
  }
 },
 "nbformat": 4,
 "nbformat_minor": 2
}
