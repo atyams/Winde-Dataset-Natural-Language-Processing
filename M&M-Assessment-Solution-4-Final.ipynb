{
 "cells": [
  {
   "cell_type": "code",
   "execution_count": 1,
   "metadata": {},
   "outputs": [
    {
     "name": "stderr",
     "output_type": "stream",
     "text": [
      "/anaconda3/lib/python3.6/site-packages/smart_open/ssh.py:34: UserWarning: paramiko missing, opening SSH/SCP/SFTP paths will be disabled.  `pip install paramiko` to suppress\n",
      "  warnings.warn('paramiko missing, opening SSH/SCP/SFTP paths will be disabled.  `pip install paramiko` to suppress')\n"
     ]
    }
   ],
   "source": [
    "#Bonus: What topics do the wine descriptions fall under? (Hint: Use a topic modeling algorithm like Latent Dirichlet\n",
    "#allocation on the description column\n",
    "\n",
    "              #######################          LIBRARIES                 #######################\n",
    "\n",
    "#Import required libraries to perform topic modeling on wine dataset\n",
    "import gensim\n",
    "from gensim.utils import simple_preprocess\n",
    "from gensim.parsing.preprocessing import STOPWORDS\n",
    "from nltk.stem import WordNetLemmatizer\n",
    "#from nltk.stem.porter import *\n",
    "import numpy as np\n",
    "#np.random.seed(2018)\n",
    "#import nltk\n",
    "#nltk.download('wordnet')\n",
    "import pandas as pd\n",
    "from nltk.stem import SnowballStemmer"
   ]
  },
  {
   "cell_type": "code",
   "execution_count": 2,
   "metadata": {},
   "outputs": [],
   "source": [
    "              \n",
    "           #######################          DATAFRAME PREPARATION    #######################\n",
    "\n",
    "#Read the csv file as a dataframe\n",
    "wine_df = pd.read_csv(\"/Users/atyam/Desktop/M&M/winemag-data-130k-v2.csv\")\n",
    "#wine_df.head()"
   ]
  },
  {
   "cell_type": "code",
   "execution_count": 3,
   "metadata": {},
   "outputs": [],
   "source": [
    "#Drop the duplicates from the dataframe.\n",
    "wine_df.drop_duplicates(subset=['description'], keep=\"first\", inplace = True)"
   ]
  },
  {
   "cell_type": "code",
   "execution_count": 4,
   "metadata": {},
   "outputs": [],
   "source": [
    "#Assign the wine description value to new variable for further analysis\n",
    "wine_text = wine_df[['description']]"
   ]
  },
  {
   "cell_type": "code",
   "execution_count": 6,
   "metadata": {},
   "outputs": [
    {
     "name": "stderr",
     "output_type": "stream",
     "text": [
      "/anaconda3/lib/python3.6/site-packages/ipykernel_launcher.py:1: SettingWithCopyWarning: \n",
      "A value is trying to be set on a copy of a slice from a DataFrame.\n",
      "Try using .loc[row_indexer,col_indexer] = value instead\n",
      "\n",
      "See the caveats in the documentation: http://pandas.pydata.org/pandas-docs/stable/indexing.html#indexing-view-versus-copy\n",
      "  \"\"\"Entry point for launching an IPython kernel.\n"
     ]
    }
   ],
   "source": [
    "#Insert an index column into the new dataframe for indexing few rows to easlity analyze the data. \n",
    "wine_text['index'] = wine_text.index"
   ]
  },
  {
   "cell_type": "code",
   "execution_count": 6,
   "metadata": {},
   "outputs": [],
   "source": [
    "#documents = data_text"
   ]
  },
  {
   "cell_type": "code",
   "execution_count": 7,
   "metadata": {},
   "outputs": [
    {
     "name": "stdout",
     "output_type": "stream",
     "text": [
      "119955\n",
      "                                         description  index\n",
      "0  Aromas include tropical fruit, broom, brimston...      0\n",
      "1  This is ripe and fruity, a wine that is smooth...      1\n",
      "2  Tart and snappy, the flavors of lime flesh and...      2\n",
      "3  Pineapple rind, lemon pith and orange blossom ...      3\n",
      "4  Much like the regular bottling from 2012, this...      4\n"
     ]
    }
   ],
   "source": [
    "print(len(wine_text))\n",
    "print(wine_text[:5])"
   ]
  },
  {
   "cell_type": "code",
   "execution_count": 20,
   "metadata": {},
   "outputs": [],
   "source": [
    "            \n",
    "             #####################         TOPIC MODELING ANALYSIS               ###################\n",
    "        "
   ]
  },
  {
   "cell_type": "code",
   "execution_count": null,
   "metadata": {},
   "outputs": [],
   "source": []
  },
  {
   "cell_type": "code",
   "execution_count": 8,
   "metadata": {},
   "outputs": [],
   "source": [
    "#Assign the stemmer method to a variable to apply on further analysis\n",
    "snb = SnowballStemmer('english')"
   ]
  },
  {
   "cell_type": "code",
   "execution_count": 9,
   "metadata": {},
   "outputs": [],
   "source": [
    "# Defined a function to perform lemmatize and stem preprocessing steps on the dataset.\n",
    "def lem_stemming(text):\n",
    "    return snb.stem(WordNetLemmatizer().lemmatize(text))            #Pos= default i.e is noun\n",
    "def preprocess(text):\n",
    "    text_tokens = []                                               # array of tokens are returned after preprocessing\n",
    "    for token in gensim.utils.simple_preprocess(text):  \n",
    "        if token not in gensim.parsing.preprocessing.STOPWORDS and len(token) > 3:\n",
    "            text_tokens.append(lem_stemming(token))\n",
    "    return text_tokens"
   ]
  },
  {
   "cell_type": "code",
   "execution_count": null,
   "metadata": {},
   "outputs": [],
   "source": [
    "#Select a single row from the wine_text by indexing to preview after the results of preprocessing the texts. "
   ]
  },
  {
   "cell_type": "code",
   "execution_count": 10,
   "metadata": {},
   "outputs": [
    {
     "name": "stdout",
     "output_type": "stream",
     "text": [
      "Actual Texts: \n",
      "['Ripe,', 'soft', 'and', 'a', 'little', 'sweet,', 'with', 'jellied', 'flavors', 'of', 'blackberries,', 'cherries,', 'chocolate', 'and', 'anise.', 'Drink', 'now.']\n",
      "\n",
      "\n",
      " Tokenized and lemmatized Texts: \n",
      "['ripe', 'soft', 'littl', 'sweet', 'jelli', 'flavor', 'blackberri', 'cherri', 'chocol', 'anis', 'drink']\n"
     ]
    }
   ],
   "source": [
    "wine_doc_sample = wine_text[wine_text['index'] == 250].values[0][0]\n",
    "print('Actual Texts: ')\n",
    "words = []\n",
    "for word in wine_doc_sample.split(' '):   # took a sample of one row/index and split that line to str/words and then append to a list.\n",
    "    words.append(word)\n",
    "print(words)\n",
    "print('\\n\\n Tokenized and lemmatized Texts: ')\n",
    "print(preprocess(wine_doc_sample))"
   ]
  },
  {
   "cell_type": "code",
   "execution_count": 12,
   "metadata": {},
   "outputs": [
    {
     "data": {
      "text/plain": [
       "0    [aroma, includ, tropic, fruit, broom, brimston...\n",
       "1    [ripe, fruiti, wine, smooth, structur, firm, t...\n",
       "2    [tart, snappi, flavor, lime, flesh, rind, domi...\n",
       "3    [pineappl, rind, lemon, pith, orang, blossom, ...\n",
       "4    [like, regular, bottl, come, rough, tannic, ru...\n",
       "Name: description, dtype: object"
      ]
     },
     "execution_count": 12,
     "metadata": {},
     "output_type": "execute_result"
    }
   ],
   "source": [
    "# The preprocess function/method is invoked to the description column of the dataframe by mapping.\n",
    "processed_text = wine_text['description'].map(preprocess)  \n",
    "\n",
    "# Pint first 5 output of lemmatization after preprocessing.\n",
    "processed_text[:5]                        "
   ]
  },
  {
   "cell_type": "code",
   "execution_count": null,
   "metadata": {},
   "outputs": [],
   "source": [
    "         \n",
    "               ######################  BAG OF WORDS ON DATASET      ########################\n",
    "    \n",
    "    \n",
    "#Create a dictionary from ‘processed_text’ containing the number of times a word appears;i.e to convert texts to \n",
    "#vectors. Here, each word is represented by one vector i and the number of times the ith word appears in the document."
   ]
  },
  {
   "cell_type": "code",
   "execution_count": 13,
   "metadata": {},
   "outputs": [],
   "source": [
    "dictionary = gensim.corpora.Dictionary(processed_text) "
   ]
  },
  {
   "cell_type": "code",
   "execution_count": 14,
   "metadata": {},
   "outputs": [
    {
     "name": "stdout",
     "output_type": "stream",
     "text": [
      "Dictionary(20941 unique tokens: ['acid', 'alongsid', 'appl', 'aroma', 'brimston']...)\n"
     ]
    }
   ],
   "source": [
    "#Here there are 20941 distinct woords in the processed corpus\n",
    "print(dictionary)"
   ]
  },
  {
   "cell_type": "code",
   "execution_count": null,
   "metadata": {},
   "outputs": [],
   "source": [
    "                ##########3#############        GGENSIM doc2bow            #######################3\n",
    "\n",
    "#Now use doc2bow to count the number of occurances for each distinct word. It conoverts the woord to its integer word id \n",
    "#and returns in the form of (word id, word ocunt)"
   ]
  },
  {
   "cell_type": "code",
   "execution_count": 17,
   "metadata": {},
   "outputs": [
    {
     "name": "stdout",
     "output_type": "stream",
     "text": [
      "[(28, 1), (36, 1), (84, 1), (109, 1), (125, 1), (132, 1), (155, 1), (315, 1), (332, 1), (495, 1), (779, 1)]\n",
      "Word 28 (\"ripe\") appears 1 time.\n",
      "Word 36 (\"flavor\") appears 1 time.\n",
      "Word 84 (\"blackberri\") appears 1 time.\n",
      "Word 109 (\"soft\") appears 1 time.\n",
      "Word 125 (\"drink\") appears 1 time.\n",
      "Word 132 (\"chocol\") appears 1 time.\n",
      "Word 155 (\"cherri\") appears 1 time.\n",
      "Word 315 (\"anis\") appears 1 time.\n",
      "Word 332 (\"sweet\") appears 1 time.\n",
      "Word 495 (\"jelli\") appears 1 time.\n",
      "Word 779 (\"littl\") appears 1 time.\n"
     ]
    }
   ],
   "source": [
    "bow_corpus = [dictionary.doc2bow(doc) for doc in processed_text]\n",
    "\n",
    "# indexed a row for sample analysis\n",
    "print(bow_corpus[250])\n",
    "\n",
    "#The above process is elaborated further\n",
    "bow_doc_250 = bow_corpus[250]\n",
    "for i in range(len(bow_doc_250)):\n",
    "    print(\"Word {} (\\\"{}\\\") appears {} time.\".format(bow_doc_250[i][0], \n",
    "                                               dictionary[bow_doc_250[i][0]], \n",
    "bow_doc_250[i][1]))"
   ]
  },
  {
   "cell_type": "code",
   "execution_count": null,
   "metadata": {},
   "outputs": [],
   "source": [
    "       #######################       PERFORMING LDA USING BAG OF WORDS       ##########################\n",
    "    \n"
   ]
  },
  {
   "cell_type": "code",
   "execution_count": 18,
   "metadata": {},
   "outputs": [],
   "source": [
    "#Train the lda model using gensim.models.LdaMulticore, assumed values are assumed for passes and iterations.\n",
    "lda_model = gensim.models.LdaMulticore(bow_corpus, num_topics=5, id2word=dictionary, passes=2, iterations =50)"
   ]
  },
  {
   "cell_type": "code",
   "execution_count": null,
   "metadata": {},
   "outputs": [],
   "source": [
    "#For each topic, we will explore the words occuring in that topic and its relative weight."
   ]
  },
  {
   "cell_type": "code",
   "execution_count": 19,
   "metadata": {},
   "outputs": [
    {
     "name": "stdout",
     "output_type": "stream",
     "text": [
      "Topic: 0 \n",
      "Words: 0.028*\"wine\" + 0.019*\"vineyard\" + 0.017*\"light\" + 0.015*\"pinot\" + 0.015*\"flavor\" + 0.015*\"acid\" + 0.013*\"grape\" + 0.012*\"blend\" + 0.012*\"fruit\" + 0.011*\"sauvignon\"\n",
      "Topic: 1 \n",
      "Words: 0.025*\"flavor\" + 0.023*\"palat\" + 0.022*\"finish\" + 0.018*\"aroma\" + 0.017*\"appl\" + 0.015*\"acid\" + 0.015*\"fruit\" + 0.015*\"note\" + 0.014*\"fresh\" + 0.014*\"white\"\n",
      "Topic: 2 \n",
      "Words: 0.039*\"wine\" + 0.026*\"flavor\" + 0.023*\"fruit\" + 0.022*\"tannin\" + 0.017*\"cherri\" + 0.017*\"black\" + 0.015*\"rich\" + 0.013*\"drink\" + 0.013*\"blackberri\" + 0.012*\"ripe\"\n",
      "Topic: 3 \n",
      "Words: 0.032*\"aroma\" + 0.025*\"palat\" + 0.025*\"flavor\" + 0.022*\"cherri\" + 0.021*\"finish\" + 0.020*\"black\" + 0.017*\"fruit\" + 0.017*\"berri\" + 0.016*\"tannin\" + 0.015*\"note\"\n",
      "Topic: 4 \n",
      "Words: 0.073*\"wine\" + 0.042*\"fruit\" + 0.034*\"acid\" + 0.030*\"drink\" + 0.025*\"flavor\" + 0.023*\"ripe\" + 0.020*\"fruiti\" + 0.018*\"textur\" + 0.018*\"rich\" + 0.017*\"fresh\"\n"
     ]
    }
   ],
   "source": [
    "for idx, topic in lda_model.print_topics(-1):\n",
    "    print('Topic: {} \\nWords: {}'.format(idx, topic))"
   ]
  },
  {
   "cell_type": "code",
   "execution_count": null,
   "metadata": {},
   "outputs": [],
   "source": [
    "        ########################       TOPIC MODELING VISUALIZATION             ####################"
   ]
  },
  {
   "cell_type": "code",
   "execution_count": 21,
   "metadata": {},
   "outputs": [],
   "source": [
    "#Import libraries reauired for visualizing the wine topics.\n",
    "from matplotlib import pyplot as plt\n",
    "from wordcloud import WordCloud\n",
    "import matplotlib.colors as mcolors"
   ]
  },
  {
   "cell_type": "code",
   "execution_count": null,
   "metadata": {},
   "outputs": [],
   "source": [
    "cols = [color for name, color in mcolors.TABLEAU_COLORS.items()]\n",
    "\n",
    "cloud = WordCloud(stopwords=gensim.parsing.preprocessing.STOPWORDS,\n",
    "                  background_color='white',\n",
    "                  width=2500,\n",
    "                  height=1800,\n",
    "                  max_words=10,\n",
    "                  colormap='tab10',\n",
    "                  color_func=lambda *args, **kwargs: cols[i],\n",
    "                  prefer_horizontal=1.0)\n",
    "\n",
    "topics = lda_model.show_topics(formatted=False)\n",
    "\n",
    "fig, axes = plt.subplots(2, 2, figsize=(10,10), sharex=True, sharey=True)\n",
    "\n",
    "for i, ax in enumerate(axes.flatten()):\n",
    "    fig.add_subplot(ax)\n",
    "    topic_words = dict(topics[i][1])\n",
    "    cloud.generate_from_frequencies(topic_words, max_font_size=300)\n",
    "    plt.gca().imshow(cloud)\n",
    "    plt.gca().set_title('Topic ' + str(i), fontdict=dict(size=16))\n",
    "    plt.gca().axis('off')\n",
    "\n",
    "\n",
    "plt.subplots_adjust(wspace=0, hspace=0)\n",
    "plt.axis('off')\n",
    "plt.margins(x=0, y=0)\n",
    "plt.tight_layout()\n",
    "plt.show()"
   ]
  },
  {
   "cell_type": "code",
   "execution_count": null,
   "metadata": {},
   "outputs": [],
   "source": []
  }
 ],
 "metadata": {
  "kernelspec": {
   "display_name": "Python 3",
   "language": "python",
   "name": "python3"
  },
  "language_info": {
   "codemirror_mode": {
    "name": "ipython",
    "version": 3
   },
   "file_extension": ".py",
   "mimetype": "text/x-python",
   "name": "python",
   "nbconvert_exporter": "python",
   "pygments_lexer": "ipython3",
   "version": "3.6.8"
  }
 },
 "nbformat": 4,
 "nbformat_minor": 2
}
